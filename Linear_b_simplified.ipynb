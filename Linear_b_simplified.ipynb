{
 "cells": [
  {
   "cell_type": "code",
   "execution_count": 1,
   "metadata": {
    "collapsed": true
   },
   "outputs": [],
   "source": [
    "import codecs\n",
    "import re"
   ]
  },
  {
   "cell_type": "code",
   "execution_count": 2,
   "metadata": {
    "collapsed": false
   },
   "outputs": [],
   "source": [
    "# Use this class to store all cells.\n",
    "class Column(object):\n",
    "    \n",
    "    def __init__(self, items=None):\n",
    "        items = items or list()\n",
    "        self._list = items\n",
    "        \n",
    "    def __len__(self):\n",
    "        return len(self._list)\n",
    "    \n",
    "    def append(self, stuff):\n",
    "        assert isinstance(stuff, str) or isinstance(stuff, unicode)\n",
    "        idx = len(self)\n",
    "        self._list.append((idx, stuff))\n",
    "    \n",
    "    def __iter__(self):\n",
    "        for k, v in self._list:\n",
    "            yield v\n",
    "    \n",
    "    def replace(self, orig, new):\n",
    "        return Column(items=[(k, v.replace(orig, new)) for k, v in self._list])\n",
    "    \n",
    "    def filter(self, func):\n",
    "        return Column(items=[(k, v) for k, v in self._list if func(v)])\n",
    "    \n",
    "    def remove(self, c):\n",
    "        return self.filter(lambda l: c not in l)\n",
    "    \n",
    "    def clean(self):\n",
    "        return self.filter(lambda l: l != '')\n",
    "    \n",
    "    def lower(self):\n",
    "        return Column(items=[(k, v.lower()) for k, v in self._list])\n",
    "    \n",
    "    def sub(self, pattern, repl):\n",
    "        return Column(items=[(k, re.sub(pattern, repl, v.strip())) for k, v in self._list])\n",
    "        "
   ]
  },
  {
   "cell_type": "code",
   "execution_count": 3,
   "metadata": {
    "collapsed": false
   },
   "outputs": [],
   "source": [
    "# First, split contents into cells\n",
    "def get_cells(input_path):\n",
    "    contents = codecs.open(input_path, 'r', 'utf8').read(-1)\n",
    "    split_contents = Column()\n",
    "    multiline = False\n",
    "    still_on_the_same_cell = False # This marks whether we have entered another line AFTER one multiline cell.\n",
    "    str_buffer = ''\n",
    "    \n",
    "    for c in contents:\n",
    "        if c == '\"':\n",
    "            if multiline: # It has reached the end of a cell\n",
    "                multiline = False\n",
    "                still_on_the_same_cell = True\n",
    "                split_contents.append(str_buffer)\n",
    "                str_buffer = ''\n",
    "            else: # Start of a cell\n",
    "                multiline = True\n",
    "        elif c == '\\n':\n",
    "            if multiline: # Newline within the same cell\n",
    "                str_buffer += '\\n' # Replace newline with space\n",
    "            elif str_buffer == '':\n",
    "                if still_on_the_same_cell: # This means we just finished a multiline cell buffer\n",
    "                    still_on_the_same_cell = False\n",
    "                    pass\n",
    "                else: # This means it's an empty cell\n",
    "                    split_contents.append(str_buffer)\n",
    "            else: # This marks the end of a non-multiline cell\n",
    "                split_contents.append(str_buffer)\n",
    "                str_buffer = ''\n",
    "        else:\n",
    "            str_buffer += c\n",
    "    print len(split_contents), 'cells'\n",
    "    ret = split_contents.clean()\n",
    "    print len(ret), 'cells after cleaning'\n",
    "    return ret"
   ]
  },
  {
   "cell_type": "code",
   "execution_count": 4,
   "metadata": {
    "collapsed": true
   },
   "outputs": [],
   "source": [
    "# Get all characters (including special characters in this column)\n",
    "def get_charset(contents):\n",
    "    charset = set()\n",
    "    for cell in contents:\n",
    "        charset.update(cell)\n",
    "    return ''.join(sorted(charset))"
   ]
  },
  {
   "cell_type": "code",
   "execution_count": 5,
   "metadata": {
    "collapsed": false
   },
   "outputs": [],
   "source": [
    "# Lines containing some given characters\n",
    "def get_lines(chars, contents):\n",
    "    chars = set(chars)\n",
    "    ret = list()\n",
    "    for l in contents:\n",
    "        if chars & set(l):\n",
    "            ret.append(l)\n",
    "    print len(ret), 'occurrences'\n",
    "    return ret"
   ]
  },
  {
   "cell_type": "code",
   "execution_count": 23,
   "metadata": {
    "collapsed": false
   },
   "outputs": [
    {
     "name": "stdout",
     "output_type": "stream",
     "text": [
      "1013 cells\n",
      "997 cells after cleaning\n"
     ]
    }
   ],
   "source": [
    "minoan = get_cells('../data/linear_b.minoan.raw')"
   ]
  },
  {
   "cell_type": "code",
   "execution_count": 24,
   "metadata": {
    "collapsed": false
   },
   "outputs": [],
   "source": [
    "minoan = minoan.sub('\\n[ ]+', '/').replace('\\n', '/').sub('[ ]+/', '/').sub(r'[ ]$', '').replace(' ', '-') # Get rid of whitespaces\n",
    "# Remove some irregularites with hyphens\n",
    "to_remove = [u'a-ne-mo(i-e-re-ja)', u'e-ra-po(ri-me-ne)', u'(po-ti-ni-ja)i-qe-a', u'ma-te(-re)te-i-ja', u'ra-pa-to(me-no)']\n",
    "minoan = minoan.filter(lambda l: l not in to_remove)\n",
    "minoan = minoan.replace('(', '').replace(')', '') # remove all parentheses\n",
    "minoan = minoan.remove('*') # Remove lines containing *\n",
    "minoan = minoan.replace('[', '').replace(']', '') # Remove all brackets\n",
    "minoan = minoan.replace(u'\\u03bf', 'o') # I think u'\\u03bf' is just 'o'\n",
    "minoan = minoan.replace('ai', 'a3') # ai -> a3\n",
    "# Remove instances containing 'lo', 'pa3', and 'sa2'\n",
    "minoan = minoan.filter(lambda l: '-lo' not in l and '-pa3' not in l and '-sa2' not in l)\n",
    "minoan = minoan.filter(lambda l: not l.endswith('-') and not l.startswith('-')) # Remove trailing hyphens (most likely affixes)\n",
    "minoan = minoan.sub(r'/+', '/')"
   ]
  },
  {
   "cell_type": "code",
   "execution_count": 25,
   "metadata": {
    "collapsed": false
   },
   "outputs": [
    {
     "name": "stdout",
     "output_type": "stream",
     "text": [
      "-/23adeijkmnopqrstuwz\n"
     ]
    }
   ],
   "source": [
    "print get_charset(minoan)"
   ]
  },
  {
   "cell_type": "code",
   "execution_count": 26,
   "metadata": {
    "collapsed": false
   },
   "outputs": [
    {
     "data": {
      "text/plain": [
       "972"
      ]
     },
     "execution_count": 26,
     "metadata": {},
     "output_type": "execute_result"
    }
   ],
   "source": [
    "len(minoan)"
   ]
  },
  {
   "cell_type": "markdown",
   "metadata": {},
   "source": [
    "# Explore Greek data"
   ]
  },
  {
   "cell_type": "code",
   "execution_count": 27,
   "metadata": {
    "collapsed": true
   },
   "outputs": [],
   "source": [
    "def remove_mix(c):\n",
    "    return lambda l, c=c: c not in l or (l[0] != '(' and l[0] != u'‘')"
   ]
  },
  {
   "cell_type": "code",
   "execution_count": 28,
   "metadata": {
    "collapsed": false
   },
   "outputs": [
    {
     "name": "stdout",
     "output_type": "stream",
     "text": [
      "1013 cells\n",
      "991 cells after cleaning\n"
     ]
    }
   ],
   "source": [
    "greek = get_cells('../data/linear_b.el.raw')"
   ]
  },
  {
   "cell_type": "code",
   "execution_count": 29,
   "metadata": {
    "collapsed": true
   },
   "outputs": [],
   "source": [
    "greek = greek.lower() # Try to lowercase everything\n",
    "# Remove lines that contain both transliterations of linear b script (starting with parentheses or \"‘\") and the Latin letter a\n",
    "greek = greek.filter(remove_mix('a'))\n",
    "greek = greek.replace('a', u'α') # Replace a's with α's\n",
    "# Remove lines that contain both transliterations of linear b script (within parentheses and \"‘\") and the Latin letter d e\n",
    "greek = greek.filter(remove_mix('d'))\n",
    "greek = greek.filter(remove_mix('e'))\n",
    "# Remove two messy instances\n",
    "to_remove = [u'σειρημοκαράφι/  σειρημοκαράο(ρε)ι  (‘seremo’=> σειρήνες;)', u'ιπ(π)ο(e-qe)']\n",
    "greek = greek.filter(lambda l: l not in to_remove)\n",
    "greek = greek.replace('e', u'ε') # Replace 'e' with 'ε'\n",
    "greek = greek.filter(remove_mix('i')) # Remove both i instances\n",
    "greek = greek.replace('k', u'κ') # Replace k with κ\n",
    "greek = greek.replace('m', u'μ') # Replace m with μ\n",
    "greek = greek.replace('n', u'ν') # Replace n with ν\n",
    "greek = greek.replace('o', u'ο') # Replace o with ο\n",
    "\n",
    "# Get rid of diacritics\n",
    "repl = {\n",
    "    u'ΐ': u'ι',\n",
    "    u'ά': u'α',\n",
    "    u'έ': u'ε',\n",
    "    u'ή': u'η',\n",
    "    u'ί': u'ι',\n",
    "    u'ϊ': u'ι',\n",
    "    u'ό': u'ο',\n",
    "    u'ύ': u'υ',\n",
    "    u'ώ': u'ω',\n",
    "    u'‘': u'',\n",
    "    u'’': u''\n",
    "}\n",
    "\n",
    "for k, v in repl.items():\n",
    "    greek = greek.replace(k, v)\n",
    "\n",
    "greek = greek.remove('*') # Remove lines containing *\n",
    "greek = greek.remove('+') # Remove the line containing +\n",
    "greek = greek.replace('>', '/')\n",
    "greek = greek.replace(' (', '/').replace('(', '').replace(')', '') # Get rid of parentheses\n",
    "greek = greek.replace(',', '/')\n",
    "greek = greek.replace(u'δυικ.', '')\n",
    "greek = greek.replace(u';', '')\n",
    "greek = greek.remove('-')\n",
    "greek = greek.remove('=')\n",
    "greek = greek.replace(u'?', '')\n",
    "greek = greek.replace(' ', '')\n",
    "greek = greek.sub('\\n[ ]+', '/').replace('\\n', '/').sub('[ ]+/', '/').sub(r'[ ]$', '').replace(' ', '-') # get rid of whitespace\n",
    "greek = greek.sub(r'/+', '/')"
   ]
  },
  {
   "cell_type": "code",
   "execution_count": 30,
   "metadata": {
    "collapsed": false
   },
   "outputs": [
    {
     "name": "stdout",
     "output_type": "stream",
     "text": [
      "/fhyαβγδεζηθικλμνξοπρςστυφχψω\n"
     ]
    }
   ],
   "source": [
    "print get_charset(greek)"
   ]
  },
  {
   "cell_type": "code",
   "execution_count": 31,
   "metadata": {
    "collapsed": false
   },
   "outputs": [
    {
     "data": {
      "text/plain": [
       "949"
      ]
     },
     "execution_count": 31,
     "metadata": {},
     "output_type": "execute_result"
    }
   ],
   "source": [
    "len(greek)"
   ]
  },
  {
   "cell_type": "markdown",
   "metadata": {},
   "source": [
    "# Join columns"
   ]
  },
  {
   "cell_type": "code",
   "execution_count": 32,
   "metadata": {
    "collapsed": true
   },
   "outputs": [],
   "source": [
    "def pp(lines):\n",
    "    if isinstance(lines, (list, tuple, dict)):\n",
    "        for l in lines:\n",
    "            pp(l)\n",
    "    else: \n",
    "        print lines"
   ]
  },
  {
   "cell_type": "code",
   "execution_count": 33,
   "metadata": {
    "collapsed": true
   },
   "outputs": [],
   "source": [
    "def join(col1, col2):\n",
    "    ret = list()\n",
    "    for k1, v1 in col1._list:\n",
    "        for k2, v2 in col2._list:\n",
    "            if k1 == k2:\n",
    "                ret.append((k1, v1, v2))\n",
    "    return ret"
   ]
  },
  {
   "cell_type": "code",
   "execution_count": 34,
   "metadata": {
    "collapsed": true
   },
   "outputs": [],
   "source": [
    "pairs = join(minoan, greek)"
   ]
  },
  {
   "cell_type": "markdown",
   "metadata": {},
   "source": [
    "# To get rid of slashes, only take the first one for linear B script, but keep everything for Greek"
   ]
  },
  {
   "cell_type": "code",
   "execution_count": 35,
   "metadata": {
    "collapsed": false
   },
   "outputs": [],
   "source": [
    "cognates = list()\n",
    "for i, lb, g in pairs:\n",
    "    lb = lb.split('/')[0].strip()\n",
    "    g = [x.strip() for x in g.split(\"/\")]\n",
    "    cognates.append((lb, g))"
   ]
  },
  {
   "cell_type": "code",
   "execution_count": 36,
   "metadata": {
    "collapsed": false
   },
   "outputs": [
    {
     "data": {
      "text/plain": [
       "935"
      ]
     },
     "execution_count": 36,
     "metadata": {},
     "output_type": "execute_result"
    }
   ],
   "source": [
    "len(cognates)"
   ]
  },
  {
   "cell_type": "code",
   "execution_count": 37,
   "metadata": {
    "collapsed": false
   },
   "outputs": [],
   "source": [
    "all_syls = set()\n",
    "for lb, g in cognates:\n",
    "    syls = lb.split(\"-\")\n",
    "    if 'sa2' in syls:\n",
    "        print lb\n",
    "        pp(g)\n",
    "        break\n",
    "    all_syls.update(syls)"
   ]
  },
  {
   "cell_type": "code",
   "execution_count": 38,
   "metadata": {
    "collapsed": true
   },
   "outputs": [],
   "source": [
    "def revert(l):\n",
    "    return ''.join(map(lambda s: syl2linb[s], l.split('-')))"
   ]
  },
  {
   "cell_type": "code",
   "execution_count": 41,
   "metadata": {
    "collapsed": false
   },
   "outputs": [],
   "source": [
    "linb2syl = {\n",
    "    u'𐀀': 'a', u'𐀁': 'e', u'𐀂': 'i', u'𐀃': 'o', u'𐀄': 'u', u'𐀅': 'da', u'𐀆': 'de', \n",
    "    u'𐀇': 'di', u'𐀈': 'do', u'𐀉': 'du', u'𐀊': 'ja', u'𐀋': 'je', u'𐀍': 'jo', \n",
    "    u'𐀎': 'ju', u'𐀏': 'ka', u'𐀐': 'ke', u'𐀑': 'ki', u'𐀒': 'ko', u'𐀓': 'ku', \n",
    "    u'𐀔': 'ma', u'𐀕': 'me', u'𐀖': 'mi', u'𐀗': 'mo', u'𐀘': 'mu', u'𐀙': 'na', \n",
    "    u'𐀚': 'ne', u'𐀛': 'ni', u'𐀜': 'no', u'𐀝': 'nu', u'𐀞': 'pa', u'𐀟': 'pe', \n",
    "    u'𐀠': 'pi', u'𐀡': 'po', u'𐀢': 'pu', u'𐀣': 'qa', u'𐀤': 'qe', u'𐀥': 'qi', \n",
    "    u'𐀦': 'qo', u'𐀨': 'ra', u'𐀩': 're', u'𐀪': 'ri', u'𐀫': 'ro', u'𐀬': 'ru',\n",
    "    u'𐀭': 'sa', u'𐀮': 'se', u'𐀯': 'si', u'𐀰': 'so', u'𐀱': 'su', u'𐀲': 'ta', \n",
    "    u'𐀳': 'te', u'𐀴': 'ti', u'𐀵': 'to', u'𐀶': 'tu', u'𐀷': 'wa', u'𐀸': 'we', \n",
    "    u'𐀹': 'wi', u'𐀺': 'wo', u'𐀼': 'za', u'𐀽': 'ze', u'𐀿': 'zo', u'𐁀': 'a2', \n",
    "    u'𐁁': 'a3', u'𐁂': 'au', u'𐁃': 'dwe', u'𐁄': 'dwo', u'𐁅': 'nwa', u'𐁆': 'pu2', \n",
    "    u'𐁇': 'pte', u'𐁈': 'ra2', u'𐁉': 'ra3', u'𐁊': 'ro2', u'𐁋': 'ta2', u'𐁌': 'twe', u'𐁍': 'two'\n",
    "}"
   ]
  },
  {
   "cell_type": "code",
   "execution_count": 42,
   "metadata": {
    "collapsed": true
   },
   "outputs": [],
   "source": [
    "syl2linb = {v: k for k, v in linb2syl.items()}"
   ]
  },
  {
   "cell_type": "code",
   "execution_count": 43,
   "metadata": {
    "collapsed": false
   },
   "outputs": [],
   "source": [
    "with codecs.open('../data/linear_b-greek.cognates', 'w', 'utf8') as fout:\n",
    "    for lb, g in cognates:\n",
    "        fout.write('%s\\t%s\\t%s\\n' %(revert(lb), lb, '\\t'.join(g)))"
   ]
  },
  {
   "cell_type": "code",
   "execution_count": 44,
   "metadata": {
    "collapsed": false
   },
   "outputs": [
    {
     "data": {
      "text/plain": [
       "70"
      ]
     },
     "execution_count": 44,
     "metadata": {},
     "output_type": "execute_result"
    }
   ],
   "source": [
    "len(all_syls)"
   ]
  },
  {
   "cell_type": "code",
   "execution_count": 45,
   "metadata": {
    "collapsed": false
   },
   "outputs": [
    {
     "name": "stdout",
     "output_type": "stream",
     "text": [
      "𐀁\n"
     ]
    }
   ],
   "source": [
    "print unichr(65537)"
   ]
  },
  {
   "cell_type": "code",
   "execution_count": 46,
   "metadata": {
    "collapsed": false
   },
   "outputs": [],
   "source": [
    "assert set(syl2linb.keys()) >= all_syls"
   ]
  },
  {
   "cell_type": "markdown",
   "metadata": {},
   "source": [
    "# merge columns"
   ]
  },
  {
   "cell_type": "code",
   "execution_count": 69,
   "metadata": {
    "collapsed": true
   },
   "outputs": [],
   "source": [
    "from collections import defaultdict"
   ]
  },
  {
   "cell_type": "code",
   "execution_count": 70,
   "metadata": {
    "collapsed": true
   },
   "outputs": [],
   "source": [
    "# merge minoan scripts\n",
    "min2el = defaultdict(list)\n",
    "for lb, g in cognates:\n",
    "    m = revert(lb)\n",
    "    min2el[m].extend(g)"
   ]
  },
  {
   "cell_type": "code",
   "execution_count": 71,
   "metadata": {
    "collapsed": false
   },
   "outputs": [
    {
     "data": {
      "text/plain": [
       "919"
      ]
     },
     "execution_count": 71,
     "metadata": {},
     "output_type": "execute_result"
    }
   ],
   "source": [
    "len(min2el)"
   ]
  },
  {
   "cell_type": "code",
   "execution_count": 79,
   "metadata": {
    "collapsed": false
   },
   "outputs": [
    {
     "name": "stdout",
     "output_type": "stream",
     "text": [
      "κνωσος\n",
      "κνωσονδε\n"
     ]
    }
   ],
   "source": [
    "pp(min2el[u'𐀒𐀜𐀰'])"
   ]
  },
  {
   "cell_type": "code",
   "execution_count": 559,
   "metadata": {
    "collapsed": true
   },
   "outputs": [],
   "source": [
    "with codecs.open('../data/linear_b_minoan-greek.cognates', 'w', 'utf8') as fout:\n",
    "    for k in sorted(min2el.keys()):\n",
    "        fout.write('%s\\t%s\\n' %(k, '\\t'.join(min2el[k])))"
   ]
  },
  {
   "cell_type": "code",
   "execution_count": 561,
   "metadata": {
    "collapsed": false
   },
   "outputs": [],
   "source": [
    "# merge latin scripts (with hyphens)\n",
    "lat2el = defaultdict(list)\n",
    "for lb, g in cognates:\n",
    "    lat2el[lb].extend(g)"
   ]
  },
  {
   "cell_type": "code",
   "execution_count": 562,
   "metadata": {
    "collapsed": false
   },
   "outputs": [
    {
     "data": {
      "text/plain": [
       "919"
      ]
     },
     "execution_count": 562,
     "metadata": {},
     "output_type": "execute_result"
    }
   ],
   "source": [
    "len(lat2el)"
   ]
  },
  {
   "cell_type": "code",
   "execution_count": 571,
   "metadata": {
    "collapsed": false
   },
   "outputs": [
    {
     "data": {
      "text/plain": [
       "[u'ko-no-si-ja',\n",
       " u'a-ka-si-jo-ne',\n",
       " u'a-ka-wi-ja-de',\n",
       " u'te-mi-ti-ja',\n",
       " u'e-ra-ja',\n",
       " u'pe-re',\n",
       " u'me-ta-pi-jo',\n",
       " u'pa-ra-jo',\n",
       " u'qe-to-ro-po-pi',\n",
       " u'me-de-i-jo']"
      ]
     },
     "execution_count": 571,
     "metadata": {},
     "output_type": "execute_result"
    }
   ],
   "source": [
    "lat2el.keys()[:10]"
   ]
  },
  {
   "cell_type": "code",
   "execution_count": 565,
   "metadata": {
    "collapsed": false
   },
   "outputs": [],
   "source": [
    "with codecs.open('../data/linear_b_latin-greek.cognates', 'w', 'utf8') as fout:\n",
    "    for k in sorted(lat2el.keys()):\n",
    "        fout.write('%s\\t%s\\n' %(k, '\\t'.join(lat2el[k])))\n"
   ]
  },
  {
   "cell_type": "code",
   "execution_count": 566,
   "metadata": {
    "collapsed": false
   },
   "outputs": [],
   "source": [
    "# merge latin scripts (without hyphens)\n",
    "latno2el = defaultdict(list)\n",
    "for lb, g in cognates:\n",
    "    latno2el[lb.replace('-', '')].extend(g)"
   ]
  },
  {
   "cell_type": "code",
   "execution_count": 567,
   "metadata": {
    "collapsed": false
   },
   "outputs": [
    {
     "data": {
      "text/plain": [
       "919"
      ]
     },
     "execution_count": 567,
     "metadata": {},
     "output_type": "execute_result"
    }
   ],
   "source": [
    "len(latno2el)"
   ]
  },
  {
   "cell_type": "code",
   "execution_count": 568,
   "metadata": {
    "collapsed": false
   },
   "outputs": [],
   "source": [
    "with codecs.open('../data/linear_b_latin_no_hyp-greek.cognates', 'w', 'utf8') as fout:\n",
    "    for k in sorted(latno2el.keys()):\n",
    "        fout.write('%s\\t%s\\n' %(k, '\\t'.join(latno2el[k])))\n"
   ]
  },
  {
   "cell_type": "code",
   "execution_count": 570,
   "metadata": {
    "collapsed": false
   },
   "outputs": [
    {
     "data": {
      "text/plain": [
       "[u'kapinija',\n",
       " u'menijo',\n",
       " u'teodora',\n",
       " u'komaweta',\n",
       " u'anono',\n",
       " u'komaweteja',\n",
       " u'dikonaro',\n",
       " u'kokijo',\n",
       " u'arakatejao',\n",
       " u'esareu']"
      ]
     },
     "execution_count": 570,
     "metadata": {},
     "output_type": "execute_result"
    }
   ],
   "source": [
    "latno2el.keys()[:10]"
   ]
  },
  {
   "cell_type": "code",
   "execution_count": 590,
   "metadata": {
    "collapsed": true
   },
   "outputs": [],
   "source": [
    "# min2latin\n",
    "min2lat = defaultdict(list)\n",
    "for lb, g in cognates:\n",
    "    m = revert(lb)\n",
    "    min2lat[m].append(lb.replace('-', ''))\n",
    "    \n",
    "with codecs.open('../data/linear_b_minoan-latin_no_hyp.cognates', 'w', 'utf8') as fout:\n",
    "    for k in sorted(min2lat.keys()):\n",
    "        fout.write('%s\\t%s\\n' %(k, '\\t'.join(min2lat[k])))"
   ]
  },
  {
   "cell_type": "markdown",
   "metadata": {},
   "source": [
    "# names only"
   ]
  },
  {
   "cell_type": "code",
   "execution_count": 48,
   "metadata": {
    "collapsed": true
   },
   "outputs": [],
   "source": [
    "import numpy as np"
   ]
  },
  {
   "cell_type": "code",
   "execution_count": 49,
   "metadata": {
    "collapsed": false
   },
   "outputs": [],
   "source": [
    "is_name = [1, 1, 1, 0, 1, 0, 1, 0, 0, 1, 0, 1, 1, 1, 1, 1, 0, 1, 1, 1, 1, 1, 1, 1, 0, 1, 0, 1, 0, 1, 1, 1, 1, 0, 1, 1, 0, 1, 1, 1, 0, 1, 0, 0, 1, 1, 1, 0, 0, 0, 0, 0, 0, 1, 1, 1, 0, 0, 0, 1, 1, 1, 0, 0, 0, 0, 0, 0, 1, 0, 0, 0, 0, 0, 1, 0, 1, 0, 0, 0, 1, 1, 1, 1, 1, 0, 1, 1, 0, 0, 1, 0, 0, 1, 0, 1, 1, 1, 1, 1, 1, 0, 0, 1, 0, 1, 1, 0, 0, 0, 0, 0, 0, 0, 1, 1, 1, 1, 1, 0, 0, 0, 0, 0, 0, 1, 1, 1, 1, 1, 0, 0, 0, 0, 0, 0, 0, 1, 1, 1, 1, 1, 0, 1, 1, 1, 0, 0, 1, 0, 1, 0, 1, 0, 1, 1, 1, 0, 1, 0, 0, 1, 1, 1, 1, 1, 0, 1, 0, 0, 0, 1, 1, 1, 1, 0, 0, 0, 0, 0, 0, 0, 0, 0, 0, 0, 0, 1, 1, 1, 0, 1, 0, 1, 1, 0, 0, 1, 1, 0, 0, 1, 1, 1, 0, 1, 0, 1, 0, 1, 1, 0, 1, 0, 1, 0, 0, 0, 0, 1, 1, 0, 1, 1, 0, 0, 0, 0, 1, 1, 0, 1, 1, 0, 0, 0, 0, 1, 1, 0, 0, 0, 0, 0, 1, 0, 1, 1, 1, 0, 1, 0, 0, 1, 1, 1, 0, 1, 0, 0, 0, 0, 1, 0, 0, 0, 0, 1, 1, 0, 0, 0, 1, 0, 0, 0, 0, 1, 0, 0, 1, 1, 1, 0, 1, 1, 1, 1, 1, 0, 1, 0, 0, 0, 0, 0, 0, 1, 0, 1, 0, 1, 1, 1, 1, 1, 0, 0, 0, 0, 1, 1, 1, 1, 1, 1, 0, 0, 1, 0, 0, 0, 0, 0, 0, 1, 1, 1, 0, 1, 1, 1, 1, 1, 1, 1, 1, 1, 1, 1, 1, 0, 1, 1, 0, 1, 1, 1, 0, 1, 0, 1, 0, 0, 0, 0, 0, 0, 0, 0, 0, 1, 1, 0, 1, 0, 0, 1, 0, 0, 0, 1, 0, 0, 1, 1, 0, 0, 0, 0, 1, 1, 1, 0, 1, 0, 0, 0, 0, 0, 0, 1, 1, 0, 0, 0, 1, 1, 0, 0, 1, 0, 1, 0, 0, 1, 1, 1, 0, 0, 1, 1, 1, 0, 1, 0, 1, 0, 1, 1, 0, 0, 1, 1, 1, 0, 0, 1, 1, 0, 0, 1, 1, 1, 0, 0, 1, 1, 0, 1, 1, 0, 0, 1, 1, 1, 0, 1, 0, 0, 0, 0, 0, 0, 1, 1, 1, 1, 0, 0, 0, 1, 0, 1, 0, 1, 1, 0, 0, 0, 0, 1, 1, 1, 1, 0, 0, 0, 1, 0, 0, 1, 1, 0, 0, 0, 0, 1, 1, 1, 0, 0, 0, 1, 1, 0, 0, 1, 1, 1, 1, 1, 0, 0, 0, 0, 0, 0, 1, 1, 0, 1, 1, 1, 0, 0, 0, 0, 1, 1, 1, 1, 1, 1, 1, 1, 0, 1, 1, 0, 1, 1, 0, 0, 1, 1, 1, 1, 0, 0, 0, 0, 0, 0, 0, 1, 0, 0, 0, 1, 1, 1, 0, 0, 0, 0, 0, 0, 0, 1, 0, 0, 1, 1, 0, 0, 1, 0, 1, 0, 1, 0, 1, 1, 1, 1, 0, 0, 1, 0, 0, 0, 0, 1, 1, 0, 1, 1, 1, 1, 0, 0, 0, 0, 0, 0, 0, 0, 0, 0, 0, 0, 1, 0, 0, 0, 0, 0, 0, 0, 1, 0, 0, 0, 0, 0, 1, 0, 1, 1, 0, 1, 1, 0, 0, 0, 0, 0, 0, 0, 1, 1, 0, 0, 1, 1, 1, 1, 1, 0, 0, 1, 1, 1, 0, 1, 0, 1, 0, 0, 0, 0, 0, 0, 0, 0, 1, 0, 0, 0, 0, 0, 0, 0, 0, 0, 0, 0, 0, 0, 1, 0, 1, 0, 0, 1, 1, 1, 1, 0, 0, 1, 1, 1, 1, 0, 1, 1, 0, 1, 1, 0, 0, 1, 1, 0, 0, 1, 1, 1, 1, 0, 1, 0, 0, 0, 0, 0, 0, 1, 0, 0, 1, 0, 0, 0, 0, 0, 0, 1, 1, 1, 1, 0, 1, 1, 0, 1, 0, 0, 0, 0, 1, 1, 1, 1, 0, 0, 0, 0, 0, 1, 0, 1, 1, 0, 1, 1, 1, 1, 1, 0, 0, 0, 0, 1, 1, 1, 1, 0, 0, 0, 0, 0, 0, 1, 0, 1, 1, 0, 0, 0, 0, 0, 0, 0, 1, 0, 0, 0, 0, 0, 0, 1, 1, 1, 1, 1, 1, 0, 0, 0, 1, 1, 1, 1, 0, 0, 0, 1, 1, 0, 1, 1, 0, 1, 0, 1, 1, 1, 0, 1, 1, 0, 0, 0, 1, 0, 0, 0, 0, 0, 1, 1, 0, 1, 1, 1, 1, 1, 1, 1, 1, 0, 0, 1, 1, 1, 0, 0, 0, 0, 1, 0, 0, 0, 1, 0, 1, 1, 1, 1, 1, 1, 0, 0, 0, 1, 0, 1, 1, 0, 1, 1, 1, 0, 0, 1, 1, 0, 0, 1, 1, 0, 0, 1, 0, 1, 0, 1, 0, 0, 0, 0, 0, 0, 0, 1, 0, 1, 0, 1, 1, 0, 1, 1, 0, 1, 0, 0, 0, 1, 1, 0, 0, 0, 0, 0, 0, 0, 1, 0, 0, 0, 1, 0, 0, 0, 1, 0, 0, 0, 1, 0, 0, 0, 0, 0, 0, 1, 0, 0, 1, 1, 1, 0, 0, 0, 1, 0, 0, 1, 0, 1, 1, 1, 1, 1, 1, 0, 1, 1, 1, 0, 0, 0, 0, 0, 1, 1, 1, 1, 1, 1, 0, 1, 0, 0, 0, 1, 0, 0, 0, 0, 1, 0, 1, 1, 1, 1, 0, 0, 1, 1, 1, 1, 0, 0, 0, 1, 0, 1, 1, 1, 0, 0, 0, 0, 0, 0, 0, 0, 1, 1, 1, 0, 1, 1, 1, 0, 0, 0, 1]\n",
    "is_name = np.asarray(is_name).astype('bool')"
   ]
  },
  {
   "cell_type": "code",
   "execution_count": 51,
   "metadata": {
    "collapsed": false
   },
   "outputs": [],
   "source": [
    "names_cognates = list()\n",
    "for i, lb, g in pairs:\n",
    "    if is_name[i]:\n",
    "        lb = lb.split('/')[0].strip()\n",
    "        g = [x.strip() for x in g.split(\"/\")]\n",
    "        names_cognates.append((lb, g))"
   ]
  },
  {
   "cell_type": "code",
   "execution_count": 53,
   "metadata": {
    "collapsed": false
   },
   "outputs": [
    {
     "data": {
      "text/plain": [
       "456"
      ]
     },
     "execution_count": 53,
     "metadata": {},
     "output_type": "execute_result"
    }
   ],
   "source": [
    "len(names_cognates)"
   ]
  },
  {
   "cell_type": "code",
   "execution_count": 55,
   "metadata": {
    "collapsed": true
   },
   "outputs": [],
   "source": [
    "# merge minoan scripts\n",
    "names_min2el = defaultdict(list)\n",
    "for lb, g in names_cognates:\n",
    "    m = revert(lb)\n",
    "    names_min2el[m].extend(g)"
   ]
  },
  {
   "cell_type": "code",
   "execution_count": 57,
   "metadata": {
    "collapsed": false
   },
   "outputs": [
    {
     "data": {
      "text/plain": [
       "455"
      ]
     },
     "execution_count": 57,
     "metadata": {},
     "output_type": "execute_result"
    }
   ],
   "source": [
    "len(names_min2el)"
   ]
  },
  {
   "cell_type": "code",
   "execution_count": 60,
   "metadata": {
    "collapsed": false
   },
   "outputs": [],
   "source": [
    "with codecs.open('../data/linear_b_minoan-greek.names.cognates', 'w', 'utf8') as fout:\n",
    "    for k in sorted(names_min2el.keys()):\n",
    "        fout.write('%s\\t%s\\n' %(k, '\\t'.join(names_min2el[k])))"
   ]
  },
  {
   "cell_type": "code",
   "execution_count": 63,
   "metadata": {
    "collapsed": false
   },
   "outputs": [],
   "source": [
    "with codecs.open('../data/linear_b.minoan.names', 'w', 'utf8') as fout:\n",
    "    for k in sorted(names_min2el.keys()):\n",
    "        fout.write('%s\\n' %(k))"
   ]
  },
  {
   "cell_type": "code",
   "execution_count": 66,
   "metadata": {
    "collapsed": false
   },
   "outputs": [],
   "source": [
    "with codecs.open('../data/linear_b.greek.names', 'w', 'utf8') as fout:\n",
    "    for k in sorted(names_min2el.keys()):\n",
    "        for kk in names_min2el[k]:\n",
    "            fout.write('%s\\n' %(kk))"
   ]
  },
  {
   "cell_type": "code",
   "execution_count": null,
   "metadata": {
    "collapsed": true
   },
   "outputs": [],
   "source": []
  },
  {
   "cell_type": "code",
   "execution_count": null,
   "metadata": {
    "collapsed": true
   },
   "outputs": [],
   "source": []
  }
 ],
 "metadata": {
  "kernelspec": {
   "display_name": "Python 3",
   "language": "python",
   "name": "python3"
  },
  "language_info": {
   "codemirror_mode": {
    "name": "ipython",
    "version": 3
   },
   "file_extension": ".py",
   "mimetype": "text/x-python",
   "name": "python",
   "nbconvert_exporter": "python",
   "pygments_lexer": "ipython3",
   "version": "3.7.3"
  }
 },
 "nbformat": 4,
 "nbformat_minor": 2
}
